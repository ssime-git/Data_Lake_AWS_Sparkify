{
 "cells": [
  {
   "cell_type": "markdown",
   "metadata": {},
   "source": [
    "# Executing the ELT pipeline:"
   ]
  },
  {
   "cell_type": "code",
   "execution_count": 4,
   "metadata": {},
   "outputs": [
    {
     "data": {
      "application/vnd.jupyter.widget-view+json": {
       "model_id": "d2f52219635545158889513eda9536ae",
       "version_major": 2,
       "version_minor": 0
      },
      "text/plain": [
       "VBox()"
      ]
     },
     "metadata": {},
     "output_type": "display_data"
    },
    {
     "data": {
      "application/vnd.jupyter.widget-view+json": {
       "model_id": "",
       "version_major": 2,
       "version_minor": 0
      },
      "text/plain": [
       "FloatProgress(value=0.0, bar_style='info', description='Progress:', layout=Layout(height='25px', width='50%'),…"
      ]
     },
     "metadata": {},
     "output_type": "display_data"
    }
   ],
   "source": [
    "import configparser\n",
    "from datetime import datetime\n",
    "import os\n",
    "from pyspark.sql import SparkSession\n",
    "from pyspark.sql.types import TimestampType, IntegerType\n",
    "from pyspark.sql.functions import udf, col, row_number\n",
    "from pyspark.sql.functions import year, month, dayofmonth, hour, weekofyear, date_format\n",
    "# Additionnal libraries\n",
    "from pyspark.sql import Window\n",
    "\n",
    "# Getting AWS credentials\n",
    "#config = configparser.ConfigParser()\n",
    "#config.read(os.path.expanduser('~/dl.cfg'))\n",
    "\n",
    "os.environ['AWS_ACCESS_KEY_ID']=''\n",
    "os.environ['AWS_SECRET_ACCESS_KEY']=''\n",
    "\n",
    "# function definitions:\n",
    "def create_spark_session():\n",
    "    spark = SparkSession \\\n",
    "        .builder \\\n",
    "        .config(\"spark.jars.packages\", \"org.apache.hadoop:hadoop-aws:2.7.0\") \\\n",
    "        .getOrCreate()\n",
    "    return spark\n",
    "\n",
    "\n",
    "def process_song_data(spark, input_data, output_data):\n",
    "    # get filepath to song data file\n",
    "    song_data = input_data + \"song_data/*/*/*/*.json\" # to modify for AWS \"song_data/*/*/*/*.json\"\n",
    "    \n",
    "    # read song data file\n",
    "    df = spark.read.json(song_data)\n",
    "\n",
    "    # extract columns to create songs table\n",
    "    songs_table = df.select('song_id', 'title', 'artist_id', 'year', 'duration').dropDuplicates()\n",
    "    \n",
    "    # write songs table to parquet files partitioned by year and artist\n",
    "    print('Writing songs table')\n",
    "    songs_table.write.mode(\"overwrite\").partitionBy('year', 'artist_id').parquet(output_data + 'parquet-songs/')\n",
    "\n",
    "    # extract columns to create artists table\n",
    "    artists_table = df.select('artist_id', 'artist_name', 'artist_location', 'artist_latitude', 'artist_longitude').dropDuplicates()\n",
    "    \n",
    "    # write artists table to parquet files\n",
    "    print('Writing artist table')\n",
    "    artists_table.write.mode('overwrite').parquet(output_data + 'parquet-artists/')\n",
    "    #\n",
    "    print('Done processing songs!')\n",
    "\n",
    "\n",
    "def process_log_data(spark, input_data, output_data):\n",
    "    # get filepath to log data file\n",
    "    log_data = input_data + \"log_data/*/*/*.json\" # to modify on AWS: \"log_data/*/*/*.json\"\n",
    "\n",
    "    # read log data file\n",
    "    df = spark.read.json(log_data)\n",
    "    \n",
    "    # filter by actions for song plays\n",
    "    df = df.filter(\"page='NextSong'\")\n",
    "\n",
    "    # extract columns for users table    \n",
    "    users_table = df.select('userId', 'firstName', 'lastName', 'gender', 'level').dropDuplicates()\\\n",
    "                                                                             .withColumnRenamed('userId', 'user_id')\\\n",
    "                                                                             .withColumnRenamed('lastName', 'last_name')\\\n",
    "                                                                             .withColumnRenamed('firstName', 'first_name')\n",
    "    \n",
    "    # write users table to parquet files\n",
    "    print('Writing users table')\n",
    "    users_table.write.mode('overwrite').parquet(output_data + 'parquet-users/')\n",
    "\n",
    "    # create timestamp function from original timestamp column\n",
    "    get_timestamp = udf(lambda x: datetime.fromtimestamp(x/1000), TimestampType())\n",
    "    \n",
    "    # create datetime column from original timestamp column\n",
    "    df = df.withColumn('start_time', get_timestamp('ts'))\n",
    "    \n",
    "    # extract columns to create time table\n",
    "    time_table = df.select('start_time', hour('start_time').alias('hour'), dayofmonth('start_time').alias('day'),\n",
    "                      weekofyear('start_time').alias('week'), month('start_time').alias('month'),\n",
    "                      year('start_time').alias('year'), \n",
    "                      date_format(col('start_time'), 'D').cast(IntegerType()).alias('weekday')).dropDuplicates()\n",
    "    \n",
    "    # write time table to parquet files partitioned by year and month\n",
    "    print('Writing time table')\n",
    "    time_table.write.mode('overwrite').partitionBy('year', 'month').parquet(output_data + 'parquet-time/')\n",
    "\n",
    "    # read in song data to use for songplays table\n",
    "    song_table = spark.read.parquet(output_data + 'parquet-songs/')\n",
    "\n",
    "    # extract columns from joined song and log datasets to create songplays table\n",
    "    ## Create songplays_table:\n",
    "    windowSpec  = Window.orderBy(\"start_time\")\n",
    "    songplays_table = df.join(song_table, df['song']==song_table['title'], 'inner')\\\n",
    "                        .select('start_time', 'userId', 'level', 'song_id', 'artist_id', 'sessionId', 'location', 'userAgent')\\\n",
    "                        .withColumn('songplay_id', row_number().over(windowSpec))\\\n",
    "                        .withColumnRenamed('userId', 'user_id')\\\n",
    "                        .withColumnRenamed('sessionId', 'session_id')\\\n",
    "                        .withColumnRenamed('userAgent', 'user_agent')\\\n",
    "                        .dropDuplicates()\n",
    "    ## reordering columns:\n",
    "    songplays_table = songplays_table.select('songplay_id', 'start_time', 'user_id', 'level', 'song_id', 'artist_id', 'session_id', 'location', 'user_agent')\n",
    "\n",
    "    # write songplays table to parquet files partitioned by year and month\n",
    "    print('Writing songplays table')\n",
    "    songplays_table.join(time_table, 'start_time', 'inner')\\\n",
    "                    .select('songplay_id', 'start_time', 'user_id', 'level', 'song_id', 'artist_id', 'session_id','location', 'user_agent', 'year', 'month')\\\n",
    "                    .write.mode('overwrite').partitionBy('year', 'month')\\\n",
    "                    .parquet(output_data + 'parquet-songplays/')\n",
    "    #\n",
    "    print('Done processing logs !')\n",
    "\n",
    "\n",
    "def main():\n",
    "    spark = create_spark_session()\n",
    "    input_data = \"s3a://udacity-dend/\"\n",
    "    output_data = \"s3a://sparkify-data-lake-sime/\"\n",
    "    \n",
    "    process_song_data(spark, input_data, output_data)    \n",
    "    process_log_data(spark, input_data, output_data)\n",
    "\n",
    "\n",
    "if __name__ == \"__main__\":\n",
    "    main()"
   ]
  },
  {
   "cell_type": "code",
   "execution_count": null,
   "metadata": {},
   "outputs": [
    {
     "data": {
      "application/vnd.jupyter.widget-view+json": {
       "model_id": "fa83f2c897354cdaa3ed874f2c1e4d38",
       "version_major": 2,
       "version_minor": 0
      },
      "text/plain": [
       "VBox()"
      ]
     },
     "metadata": {},
     "output_type": "display_data"
    },
    {
     "data": {
      "application/vnd.jupyter.widget-view+json": {
       "model_id": "ed0977eb410d4ad0a8dad3c2d3aa6ba9",
       "version_major": 2,
       "version_minor": 0
      },
      "text/plain": [
       "FloatProgress(value=0.0, bar_style='info', description='Progress:', layout=Layout(height='25px', width='50%'),…"
      ]
     },
     "metadata": {},
     "output_type": "display_data"
    }
   ],
   "source": [
    "main()"
   ]
  },
  {
   "cell_type": "code",
   "execution_count": null,
   "metadata": {},
   "outputs": [],
   "source": []
  }
 ],
 "metadata": {
  "kernelspec": {
   "display_name": "Python 3",
   "language": "python",
   "name": "python3"
  },
  "language_info": {
   "codemirror_mode": {
    "name": "ipython",
    "version": 3
   },
   "file_extension": ".py",
   "mimetype": "text/x-python",
   "name": "python",
   "nbconvert_exporter": "python",
   "pygments_lexer": "ipython3",
   "version": "3.8.5"
  }
 },
 "nbformat": 4,
 "nbformat_minor": 4
}
